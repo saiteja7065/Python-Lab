{
 "cells": [
  {
   "cell_type": "code",
   "execution_count": 11,
   "metadata": {},
   "outputs": [
    {
     "name": "stdout",
     "output_type": "stream",
     "text": [
      "list: [1, 2, 3, 4, 56, 5]\n",
      "list into array [ 1  2  3  4 56  5]\n",
      "tuple: (2, 3, 45, 6)\n",
      "tuple into array [ 2  3 45  6]\n",
      "the common elements are [2 3]\n"
     ]
    }
   ],
   "source": [
    "# 1. i) Write a program to convert a list and tuple into arrays.\n",
    "# ii) Write a program to find common values between two arrays.\n",
    "import numpy as n\n",
    "list=[1,2,3,4,56,5]\n",
    "tuple=(2,3,45,6)\n",
    "ar_li=n.array(list)\n",
    "ar_tupl=n.array(tuple)\n",
    "print(\"list:\",list)\n",
    "print(\"list into array\",ar_li)\n",
    "print(\"tuple:\",tuple)\n",
    "print(\"tuple into array\",ar_tupl)\n",
    "arrcommon=n.intersect1d(ar_li,ar_tupl)\n",
    "print(\"the common elements are\",arrcommon)"
   ]
  },
  {
   "cell_type": "code",
   "execution_count": 12,
   "metadata": {},
   "outputs": [
    {
     "name": "stdout",
     "output_type": "stream",
     "text": [
      "10\n",
      "20\n",
      "10\n"
     ]
    }
   ],
   "source": [
    "# 2. Write a function called gcd that takes parameters a and b and returns their greatest\n",
    "# common divisor.\n",
    "import math\n",
    "a=int(input())\n",
    "b=int(input())\n",
    "c=math.gcd(a,b)\n",
    "print(c)"
   ]
  },
  {
   "cell_type": "code",
   "execution_count": 15,
   "metadata": {},
   "outputs": [
    {
     "name": "stdout",
     "output_type": "stream",
     "text": [
      "nitin\n",
      "it is a palindrom\n"
     ]
    }
   ],
   "source": [
    "# 3. Write a function called palindrome that takes a string argument and returns True if\n",
    "# it is a palindrome and False otherwise. Remember that you can use the built-in\n",
    "# function len to check the length of a string.\n",
    "def palindrome(a):\n",
    "    b=a[::-1]\n",
    "    if a==b:\n",
    "        print(\"it is a palindrom\")\n",
    "    else:\n",
    "        print(\"it is not a palindrom\")\n",
    "c=input()\n",
    "palindrome(c)"
   ]
  },
  {
   "cell_type": "code",
   "execution_count": 18,
   "metadata": {},
   "outputs": [
    {
     "name": "stdout",
     "output_type": "stream",
     "text": [
      "mean 4.75\n",
      "median 4.0\n",
      "mode : 4\n"
     ]
    }
   ],
   "source": [
    "# 4. Find mean, median, mode for the given set of numbers in a list. \n",
    "import statistics\n",
    "lis=[1,2,3,4,4,7,8,9]\n",
    "s=sum(lis)\n",
    "median=0\n",
    "mean=(s/len(lis))\n",
    "if(len(lis)%2!=0):\n",
    "    median=lis[len(lis)//2-1]\n",
    "else:\n",
    "    median=(lis[len(lis)//2]+lis[len(lis)//2-1])/2\n",
    "print(\"mean\",mean)\n",
    "print(\"median\",median)\n",
    "mode=statistics.mode(lis)\n",
    "print(\"mode :\",mode)"
   ]
  },
  {
   "cell_type": "code",
   "execution_count": 20,
   "metadata": {},
   "outputs": [
    {
     "name": "stdout",
     "output_type": "stream",
     "text": [
      "<class 'tuple'>\n",
      "(1, 2, 3, 34, 4)\n"
     ]
    }
   ],
   "source": [
    "# 5. Write a Python program to create a tuple. \n",
    "a=(1,2,3,34,4)\n",
    "print(type(a))\n",
    "print(a)"
   ]
  },
  {
   "cell_type": "code",
   "execution_count": 21,
   "metadata": {},
   "outputs": [
    {
     "name": "stdout",
     "output_type": "stream",
     "text": [
      "<class 'tuple'>\n",
      "(1, 'nithin', True)\n"
     ]
    }
   ],
   "source": [
    "# 6. Write a Python program to create a tuple with different data types. \n",
    "a=(1,\"nithin\",True)\n",
    "print(type(a))\n",
    "print(a)"
   ]
  },
  {
   "cell_type": "code",
   "execution_count": 22,
   "metadata": {},
   "outputs": [
    {
     "name": "stdout",
     "output_type": "stream",
     "text": [
      "<class 'tuple'>\n",
      "(1, 2, 3, 34, 4)\n",
      "enter the element to check:3\n",
      "the element is found\n"
     ]
    }
   ],
   "source": [
    "# 7. Write a Python program to check whether an element exists within a tuple. \n",
    "a=(1,2,3,34,4)\n",
    "print(type(a))\n",
    "print(a)\n",
    "n=int(input(\"enter the element to check:\"))\n",
    "if(n in a):\n",
    "    print(\"the element is found\")\n",
    "else:\n",
    "    print(\"the element is not found\")"
   ]
  }
 ],
 "metadata": {
  "kernelspec": {
   "display_name": "Python 3",
   "language": "python",
   "name": "python3"
  },
  "language_info": {
   "codemirror_mode": {
    "name": "ipython",
    "version": 3
   },
   "file_extension": ".py",
   "mimetype": "text/x-python",
   "name": "python",
   "nbconvert_exporter": "python",
   "pygments_lexer": "ipython3",
   "version": "3.7.3"
  }
 },
 "nbformat": 4,
 "nbformat_minor": 2
}
