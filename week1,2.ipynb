{
 "cells": [
  {
   "cell_type": "code",
   "execution_count": 2,
   "metadata": {},
   "outputs": [
    {
     "name": "stdout",
     "output_type": "stream",
     "text": [
      "5 \n",
      "4 4 \n",
      "3 3 3 \n",
      "2 2 2 2 \n",
      "1 1 1 1 1 \n"
     ]
    }
   ],
   "source": [
    "# 1. Print the below triangle using for loop.\n",
    "# 5\n",
    "# 4 4\n",
    "# 3 3 3\n",
    "# 2 2 2 2\n",
    "# 1 1 1 1 1\n",
    "for i in range(5,0,-1):\n",
    "  for j in range(6-i):\n",
    "      print(i,end=\" \")\n",
    "  print(\"\")"
   ]
  },
  {
   "cell_type": "code",
   "execution_count": 8,
   "metadata": {},
   "outputs": [
    {
     "name": "stdout",
     "output_type": "stream",
     "text": [
      "h\n",
      "the input is lowercase\n"
     ]
    }
   ],
   "source": [
    "# 2. Write a program to check whether the given input is digit or lowercase character\n",
    "# or uppercase \n",
    "a=input()\n",
    "if a.isdigit():\n",
    "     print(\"the input is digit\")\n",
    "elif a.islower():\n",
    "     print(\"the input is lowercase\")\n",
    "elif a.isupper():\n",
    "     print(\"the input is uppercase\")\n",
    "else:\n",
    "    print(\"a special character\")\n"
   ]
  },
  {
   "cell_type": "code",
   "execution_count": 15,
   "metadata": {},
   "outputs": [
    {
     "name": "stdout",
     "output_type": "stream",
     "text": [
      "enter the number10\n",
      "0 1 1 2 3 5 8 13 21 34 55 89 "
     ]
    }
   ],
   "source": [
    "# 3. Python Program to Print the Fibonacci sequence using while loop\n",
    "n=int(input(\"enter the number\"))\n",
    "a=0\n",
    "b=1\n",
    "i=0\n",
    "print(a,end=\" \")\n",
    "while(i<=n):\n",
    "    i=i+1\n",
    "    a,b=b,a+b\n",
    "    print(a,end=\" \")\n",
    "    "
   ]
  },
  {
   "cell_type": "code",
   "execution_count": 18,
   "metadata": {},
   "outputs": [
    {
     "name": "stdout",
     "output_type": "stream",
     "text": [
      "enter the number20\n",
      "2 3 5 7 11 13 17 19 "
     ]
    }
   ],
   "source": [
    "# 4. Python program to print all prime numbers in a given interval (use break)\n",
    "n=int(input(\"enter the number\"))\n",
    "for i in range(2,n,1):\n",
    "    for j in range(2,i,1):\n",
    "        if(i%j==0):\n",
    "            break;\n",
    "    else:\n",
    "        print(i,end=\" \")"
   ]
  },
  {
   "cell_type": "code",
   "execution_count": 24,
   "metadata": {},
   "outputs": [
    {
     "name": "stdout",
     "output_type": "stream",
     "text": [
      "enter the number12\n",
      "enter the number15\n",
      "the lcm of the two numbers is:\n",
      "60.0\n"
     ]
    }
   ],
   "source": [
    "# 5. Write a program to compute LCM of two numbers by taking input from the user \n",
    "m=int(input(\"enter the number\"))\n",
    "n=int(input(\"enter the number\"))\n",
    "print(\"the lcm of the two numbers is:\")\n",
    "r=m if m>n else n\n",
    "k=1\n",
    "for i in range(1,r,1):\n",
    "      if(n%i==0 and m%i==0):\n",
    "          k=i\n",
    "print(n*m/k)         "
   ]
  },
  {
   "cell_type": "code",
   "execution_count": 33,
   "metadata": {},
   "outputs": [
    {
     "name": "stdout",
     "output_type": "stream",
     "text": [
      "compound interest: 615.9884781827586\n"
     ]
    }
   ],
   "source": [
    "# 4. i) Write a program to calculate compound interest when principal, rate and number\n",
    "# of periods are given.\n",
    "p=10000\n",
    "t=2\n",
    "r=3/100\n",
    "n=4\n",
    "a=(1+r/n)\n",
    "n=n*t\n",
    "a=a**n\n",
    "a=a*p\n",
    "# a=p(1+r/n)^nt formula\n",
    "print(\"compound interest:\",a-p)"
   ]
  },
  {
   "cell_type": "code",
   "execution_count": 38,
   "metadata": {},
   "outputs": [
    {
     "name": "stdout",
     "output_type": "stream",
     "text": [
      "10.0\n"
     ]
    }
   ],
   "source": [
    "# ii) Given coordinates (x1, y1), (x2, y2) find the distance between two points\n",
    "import math\n",
    "x1,y1=20,30\n",
    "x2,y2=20,40\n",
    "distance=math.sqrt((x2-x1)**2+(y2-y1)**2)\n",
    "print(distance)"
   ]
  },
  {
   "cell_type": "code",
   "execution_count": null,
   "metadata": {},
   "outputs": [],
   "source": []
  }
 ],
 "metadata": {
  "kernelspec": {
   "display_name": "Python 3",
   "language": "python",
   "name": "python3"
  },
  "language_info": {
   "codemirror_mode": {
    "name": "ipython",
    "version": 3
   },
   "file_extension": ".py",
   "mimetype": "text/x-python",
   "name": "python",
   "nbconvert_exporter": "python",
   "pygments_lexer": "ipython3",
   "version": "3.7.3"
  }
 },
 "nbformat": 4,
 "nbformat_minor": 2
}
