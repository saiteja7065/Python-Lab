{
 "cells": [
  {
   "cell_type": "code",
   "execution_count": 2,
   "metadata": {},
   "outputs": [
    {
     "name": "stdout",
     "output_type": "stream",
     "text": [
      "1 2 3 4 5 6 7 8 9\n",
      "sorted\n"
     ]
    }
   ],
   "source": [
    "# 1. Write a function called is_sorted that takes a list as a parameter and returns True if\n",
    "# the list is sorted in ascending order and False otherwise.\n",
    "def is_sorted(a,b):\n",
    "    a.sort()\n",
    "    if(a==b):\n",
    "        print(\"sorted\")\n",
    "    else:\n",
    "        print(\"not sorted\")\n",
    "a=list(map(int,input().split(\" \")))\n",
    "b=a.copy()\n",
    "is_sorted(a,b)"
   ]
  },
  {
   "cell_type": "code",
   "execution_count": 4,
   "metadata": {},
   "outputs": [
    {
     "name": "stdout",
     "output_type": "stream",
     "text": [
      "1 2 3 5 6 1 2 1 5 4 6 8 5 4 2 6 2 3 2\n",
      "orginal list [1, 2, 3, 5, 6, 1, 2, 1, 5, 4, 6, 8, 5, 4, 2, 6, 2, 3, 2]\n",
      "False\n",
      "final list after removing the duplicates [1, 2, 3, 4, 5, 6, 8]\n"
     ]
    }
   ],
   "source": [
    "# 2. Write a function called has_duplicates that takes a list and returns True if there is any\n",
    "# # element that appears more than once. It should not modify the original list.\n",
    "# i). Write a function called remove_duplicates that takes a list and returns a new list\n",
    "# with only the unique elements from the original. Hint: they don’t have to be in the same order.\n",
    "def remove_duplicates(a):\n",
    "    s=set(a)\n",
    "    b=list(s)\n",
    "    return b\n",
    "a=list(map(int,input().split(\" \")))\n",
    "b=remove_duplicates(a)\n",
    "print(\"orginal list\",a)\n",
    "if(len(a)==len(b)):\n",
    "    print(\"True\")\n",
    "else:\n",
    "    print(\"False\")\n",
    "print(\"final list after removing the duplicates\",b)"
   ]
  },
  {
   "cell_type": "code",
   "execution_count": 9,
   "metadata": {},
   "outputs": [
    {
     "name": "stdout",
     "output_type": "stream",
     "text": [
      "nithin 1 harresh 2\n",
      "{'nithin': 1, 'harresh': 2}\n",
      "{1: 'nithin', 2: 'harresh'}\n"
     ]
    }
   ],
   "source": [
    "# iii). Write a python code to read dictionary values from the user. Construct a function\n",
    "# to invert its\n",
    "# content. i.e., keys should be values and values should be keys.\n",
    "def fundic(n):\n",
    "    a={}\n",
    "    for i in n:\n",
    "        a[n[i]]=i\n",
    "    return a\n",
    "n=input().split(\" \")\n",
    "a={}\n",
    "for i in range(0,len(n),2):\n",
    "    a[str(n[i])]=int(n[i+1])\n",
    "di=fundic(a)\n",
    "print(a)\n",
    "print(di)"
   ]
  },
  {
   "cell_type": "code",
   "execution_count": 2,
   "metadata": {},
   "outputs": [
    {
     "name": "stdout",
     "output_type": "stream",
     "text": [
      "Apple\n",
      "A,p,p,l,e\n"
     ]
    }
   ],
   "source": [
    "# 3. i) Add a comma between the characters. If the given word is 'Apple', it should\n",
    "# become 'A,p,p,l,e'\n",
    "a=input()\n",
    "r=\",\".join(a)\n",
    "print(r)\n"
   ]
  },
  {
   "cell_type": "code",
   "execution_count": 8,
   "metadata": {},
   "outputs": [
    {
     "name": "stdout",
     "output_type": "stream",
     "text": [
      "enter the string:he is an an hero an an art man\n",
      "enter the word to remove:an\n",
      "he is hero art man "
     ]
    }
   ],
   "source": [
    "# ii) Remove the given word in all the places in a string?\n",
    "a=list(map(str,input(\"enter the string:\").split(\" \")))\n",
    "n=input(\"enter the word to remove:\")\n",
    "k=a.count(n)\n",
    "for i in range(k):\n",
    "    a.remove(n)\n",
    "for i in a:\n",
    "    print(i,end=\" \")"
   ]
  },
  {
   "cell_type": "code",
   "execution_count": 13,
   "metadata": {},
   "outputs": [
    {
     "name": "stdout",
     "output_type": "stream",
     "text": [
      "in this world all the people cannot live without drinking water but i cannot live without doing coding\n",
      "In This World All The People Cannot Live Without Drinking Water But I Cannot Live Without Doing Coding "
     ]
    }
   ],
   "source": [
    "# iii) Write a function that takes a sentence as an input parameter and replaces the first\n",
    "# letter of every word with the corresponding upper case letter and the rest of the letters in the word\n",
    "# by corresponding letters in lower case without using a built-in function?\n",
    "def capfirst(a):\n",
    "    c=list(map(str,a.split(\" \")))\n",
    "    for i in c:\n",
    "        j=list(i)\n",
    "        k=chr(ord(j[0])-32)\n",
    "        j[0]=k\n",
    "        i=\"\".join(j)\n",
    "        print(i,end=\" \")\n",
    "b=input()\n",
    "capfirst(b)"
   ]
  },
  {
   "cell_type": "code",
   "execution_count": 1,
   "metadata": {},
   "outputs": [
    {
     "name": "stdout",
     "output_type": "stream",
     "text": [
      "1 2 3 4 5 6 7 8 9\n",
      "1 2 3 4\n",
      "{1, 2, 3, 4}\n",
      "{1, 2, 3, 4, 5, 6, 7, 8, 9}\n",
      "False\n",
      "True\n",
      "False\n",
      "enter the element to remove from the s1:5\n",
      "enter the element to add in s1:4\n",
      "{1, 2, 3, 4, 6, 7, 8, 9}\n",
      "{1, 2, 3, 4, 5, 6, 7, 8, 9} {1, 2, 3, 4, 5, 6, 7, 8, 9}\n"
     ]
    }
   ],
   "source": [
    "# 5. Write a Python program to implement all set operations\n",
    "s1=set(map(int,input().split( )))\n",
    "s2=set(map(int,input().split( )))\n",
    "s3=s1&s2\n",
    "print(s3)\n",
    "s3=s1|s2\n",
    "print(s3)          \n",
    "print(s1.issubset(s2))\n",
    "print(s1.issuperset(s2))\n",
    "print(s1.isdisjoint(s2))\n",
    "n=int(input(\"enter the element to remove from the s1:\"))\n",
    "s1.remove(n)\n",
    "m=int(input(\"enter the element to add in s1:\"))\n",
    "s1.add(m)\n",
    "print(s1)\n",
    "s4=s3.copy()\n",
    "print(s3,s4)"
   ]
  },
  {
   "cell_type": "code",
   "execution_count": 4,
   "metadata": {},
   "outputs": [
    {
     "name": "stdout",
     "output_type": "stream",
     "text": [
      "3\n",
      "000\n",
      "001\n",
      "010\n",
      "011\n",
      "100\n",
      "101\n",
      "110\n",
      "111\n"
     ]
    }
   ],
   "source": [
    "# 4. Writes a recursive function that generates all binary strings of n-bit length\n",
    "def recur(n,prefix=\"\"):\n",
    "    if(len(prefix)==n):\n",
    "        print(prefix)\n",
    "        return\n",
    "    recur(n,prefix + \"0\")\n",
    "    recur(n,prefix + \"1\")\n",
    "n=int(input())\n",
    "recur(n)"
   ]
  },
  {
   "cell_type": "code",
   "execution_count": 3,
   "metadata": {},
   "outputs": [
    {
     "name": "stdout",
     "output_type": "stream",
     "text": [
      "nitin\n",
      "nithin\n",
      "palindrome\n",
      "not a palindrom\n"
     ]
    }
   ],
   "source": [
    "# 6. Write a program to check whether a string is palindrome or not \n",
    "def palin(a):\n",
    "    if(a==a[::-1]):\n",
    "        print(\"palindrome\")\n",
    "    else:\n",
    "        print(\"not a palindrom\")\n",
    "a=input()\n",
    "b=input()\n",
    "palin(a)\n",
    "palin(b)"
   ]
  }
 ],
 "metadata": {
  "kernelspec": {
   "display_name": "Python 3",
   "language": "python",
   "name": "python3"
  },
  "language_info": {
   "codemirror_mode": {
    "name": "ipython",
    "version": 3
   },
   "file_extension": ".py",
   "mimetype": "text/x-python",
   "name": "python",
   "nbconvert_exporter": "python",
   "pygments_lexer": "ipython3",
   "version": "3.7.3"
  }
 },
 "nbformat": 4,
 "nbformat_minor": 2
}
